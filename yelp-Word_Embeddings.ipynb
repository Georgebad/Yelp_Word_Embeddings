{
 "cells": [
  
  {
   "cell_type": "markdown",
   "metadata": {},
   "source": [
    "#### Imports\n",
    "First of all we have to make all the necessary imports."
   ]
  },
  {
   "cell_type": "code",
   "execution_count": 1,
   "metadata": {},
   "outputs": [],
   "source": [
    "from nltk.tokenize import sent_tokenize, word_tokenize \n",
    "from sklearn.linear_model import LogisticRegression\n",
    "from sklearn.model_selection import cross_validate\n",
    "from sklearn.neighbors import KNeighborsClassifier\n",
    "import sklearn.feature_extraction.text as sk_text\n",
    "import sklearn.model_selection as model_selection\n",
    "import sklearn.cluster as sk_cluster\n",
    "from gensim.models import Word2Vec\n",
    "import sklearn.metrics as metrics\n",
    "from nltk.corpus import stopwords\n",
    "import matplotlib.pyplot as plt\n",
    "import gensim.downloader as api\n",
    "from sklearn.svm import SVC\n",
    "import string as string\n",
    "import numpy as np\n",
    "import nltk\n",
    "import json\n",
    "import time\n",
    "import csv\n",
    "import gensim "
   ]
  },
  {
   "cell_type": "markdown",
   "metadata": {},
   "source": [
    "First we filter the business.json file and we keep a matrix with only the businesses that located in Torronto and have more than 10 reviews.\n",
    "\n",
    "Also we keep the true labels of businesses that we will use at next steps."
   ]
  },
  {
   "cell_type": "code",
   "execution_count": 40,
   "metadata": {},
   "outputs": [],
   "source": [
    "businesses = []\n",
    "true_labels = []\n",
    "categories=['Beauty & Spas','Shopping','Bars','All']\n",
    "with open('D:\\Work\\Data Mining\\yelp_academic_dataset_business.json',encoding='utf-8') as file_biz:\n",
    "    for line in file_biz:\n",
    "    \ttemp_biz = json.loads(line)\n",
    "    \tif temp_biz.get('city')=='Toronto' and temp_biz.get('review_count')>=10:\n",
    "            counter=0\n",
    "            indicator=0\n",
    "            if temp_biz.get('categories') is not None:\n",
    "                cat=temp_biz.get('categories').split(\",\")\n",
    "            for line in cat:\n",
    "                if line==\"Beauty & Spas\":\n",
    "                    counter+=1\n",
    "                    indicator=1\n",
    "                if line==\"Shopping\":\n",
    "                    counter+=1\n",
    "                    indicator=2\n",
    "                if line==\"Bars\":\n",
    "                    counter+=1\n",
    "                    indicator=3\n",
    "            if counter!=0 and counter<3:\n",
    "                businesses.append(temp_biz.get('business_id'))\n",
    "                if indicator==1:\n",
    "                    true_labels.append(\"Beauty & Spas\")\n",
    "                if indicator==2:\n",
    "                    true_labels.append(\"Shopping\")\n",
    "                if indicator==3:\n",
    "                    true_labels.append(\"Bars\")\n",
    "            if counter>=3:\n",
    "                businesses.append(temp_biz.get('business_id'))\n",
    "                true_labels.append('ALL')"
   ]
  },
  {
   "cell_type": "markdown",
   "metadata": {},
   "source": [
    "We create the reviews matrix that contains all the reviews for the businesses from above.\n",
    "\n",
    "The reviews are sort exactly the same way as bussinesses wich means that the element review[ i ] refers to businesses[ i ]."
   ]
  },
  {
   "cell_type": "code",
   "execution_count": 41,
   "metadata": {},
   "outputs": [],
   "source": [
    "reviews=[' '] * len(businesses)\n",
    "with open('D:\\Work\\Data Mining\\yelp_academic_dataset_review.json',encoding='utf-8') as file_rev:\n",
    "    for line in file_rev:\n",
    "        temp_rev = json.loads(line)\n",
    "        if temp_rev.get('text') is not None and temp_rev.get('business_id') in businesses:\n",
    "            pos=businesses.index(temp_rev.get('business_id'))\n",
    "            reviews[pos]=temp_rev.get('text') \n",
    "            "
   ]
  },
  {
   "cell_type": "markdown",
   "metadata": {},
   "source": [
    "### TF-IDF\n",
    "We use the TfidfVectorizer function from sklearn package to crete the TF-IDF matrix."
   ]
  },
  {
   "cell_type": "code",
   "execution_count": 42,
   "metadata": {},
   "outputs": [],
   "source": [
    "#tf-idf\n",
    "vectorizer =sk_text.TfidfVectorizer(stop_words='english')\n",
    "tfidf=vectorizer.fit_transform(reviews)\n",
    "dense=tfidf.todense()\n",
    "\n",
    "from sklearn.model_selection import KFold\n",
    "cv = KFold(n_splits=5, random_state=1, shuffle=True)"
   ]
  },
  {
   "cell_type": "markdown",
   "metadata": {},
   "source": [
    "### Logistic Regression"
   ]
  },
  {
   "cell_type": "code",
   "execution_count": 43,
   "metadata": {},
   "outputs": [
    {
     "name": "stdout",
     "output_type": "stream",
     "text": [
      "\n",
      "accuracy: 0.9826435246995995\n",
      "\n",
      "Confusion matrix:\n"
     ]
    },
    {
     "data": {
      "image/png": "[encoded data removed]",
      "text/plain": [
       "<Figure size 432x288 with 1 Axes>"
      ]
     },
     "metadata": {
      "needs_background": "light"
     },
     "output_type": "display_data"
    },
    {
     "name": "stdout",
     "output_type": "stream",
     "text": [
      "\n",
      "Average Precision Score:\n",
      "0.9826267942914233\n",
      "\n",
      "Average Recall Score:\n",
      "0.9826435246995995\n",
      "\n",
      "Average F1 Score:\n",
      "0.9826324629955021\n",
      "\n",
      " {'fit_time': array([0.12802744, 0.12402749, 0.13903141, 1.63354182, 0.12902927]), 'score_time': array([0.00200033, 0.00200057, 0.00300121, 0.00200081, 0.00200009]), 'test_precision_weighted': array([0.87579839, 0.88246722, 0.87399811, 0.88039786, 0.90475613]), 'test_recall_weighted': array([0.86666667, 0.88      , 0.87333333, 0.88      , 0.89932886])}\n",
      "\n",
      " precision_weighted: 0.8834835405141449 \n",
      " recall_weighted: 0.8798657718120806\n"
     ]
    }
   ],
   "source": [
    "logreg_clf =LogisticRegression()\n",
    "logreg_clf.fit(tfidf,true_labels)\n",
    "y_pred=logreg_clf.predict(tfidf)\n",
    "\n",
    "print(\"\\naccuracy:\",metrics.accuracy_score(true_labels,y_pred))\n",
    "\n",
    "print(\"\\nConfusion matrix:\")\n",
    "plt.pcolormesh(metrics.confusion_matrix(true_labels,y_pred),cmap=plt.cm.Reds)\n",
    "plt.show()\n",
    "\n",
    "print(\"\\nAverage Precision Score:\")\n",
    "print(metrics.precision_score(true_labels,y_pred,average='weighted'))\n",
    "\n",
    "print(\"\\nAverage Recall Score:\")\n",
    "print(metrics.recall_score(true_labels,y_pred,average='weighted'))\n",
    "\n",
    "print(\"\\nAverage F1 Score:\")\n",
    "print(metrics.f1_score(true_labels,y_pred,average='weighted'))\n",
    "\n",
    "scores = model_selection.cross_validate(logreg_clf,\n",
    "                                          tfidf,\n",
    "                                          true_labels,\n",
    "                                          scoring=['precision_weighted','recall_weighted'],\n",
    "                                          cv=5)\n",
    "print (\"\\n\",scores)\n",
    "print (\"\\n precision_weighted:\",scores['test_precision_weighted'].mean(),\n",
    "       \"\\n recall_weighted:\",scores['test_recall_weighted'].mean())"
   ]
  },
  {
   "cell_type": "markdown",
   "metadata": {},
   "source": [
    "### SVM Classification"
   ]
  },
  {
   "cell_type": "code",
   "execution_count": 44,
   "metadata": {},
   "outputs": [
    {
     "name": "stdout",
     "output_type": "stream",
     "text": [
      "\n",
      "accuracy: 0.9973297730307076\n",
      "\n",
      "Confusion matrix\n"
     ]
    },
    {
     "data": {
      "image/png": "[encoded data removed]",
      "text/plain": [
       "<Figure size 432x288 with 1 Axes>"
      ]
     },
     "metadata": {
      "needs_background": "light"
     },
     "output_type": "display_data"
    },
    {
     "name": "stdout",
     "output_type": "stream",
     "text": [
      "\n",
      "Average Precision Score\n",
      "0.9973500789392193\n",
      "\n",
      "Average Recall Score\n",
      "0.9973297730307076\n",
      "\n",
      "Average F1 Score\n",
      "0.9973293518858322\n",
      "\n",
      " {'fit_time': array([0.18104649, 0.18204212, 0.17603111, 0.179039  , 0.1740396 ]), 'score_time': array([0.03500724, 0.03500676, 0.03500867, 0.03500772, 0.03500819]), 'test_precision_weighted': array([0.86620022, 0.87121237, 0.87302856, 0.86317615, 0.89959325]), 'test_recall_weighted': array([0.85333333, 0.86      , 0.86666667, 0.85333333, 0.89261745])}\n",
      "\n",
      " precision_weighted: 0.8746421084992708 \n",
      " recall_weighted: 0.8651901565995527\n"
     ]
    }
   ],
   "source": [
    "svm_clf=SVC()\n",
    "svm_clf.fit(tfidf,true_labels)\n",
    "y_pred=svm_clf.predict(tfidf)\n",
    "\n",
    "print(\"\\naccuracy:\",metrics.accuracy_score(true_labels,y_pred))\n",
    "\n",
    "print(\"\\nConfusion matrix\")\n",
    "plt.pcolormesh(metrics.confusion_matrix(true_labels,y_pred),cmap=plt.cm.Reds)\n",
    "plt.show()\n",
    "\n",
    "print(\"\\nAverage Precision Score\")\n",
    "print(metrics.precision_score(true_labels,y_pred,average='weighted'))\n",
    "\n",
    "print(\"\\nAverage Recall Score\")\n",
    "print(metrics.recall_score(true_labels,y_pred,average='weighted'))\n",
    "\n",
    "print(\"\\nAverage F1 Score\")\n",
    "print(metrics.f1_score(true_labels,y_pred,average='weighted'))\n",
    "\n",
    "scores = model_selection.cross_validate(svm_clf,\n",
    "                                          tfidf,\n",
    "                                          true_labels,\n",
    "                                          scoring=['precision_weighted','recall_weighted'],\n",
    "                                          cv=5)\n",
    "print (\"\\n\",scores)\n",
    "print (\"\\n precision_weighted:\",scores['test_precision_weighted'].mean(),\n",
    "       \"\\n recall_weighted:\",scores['test_recall_weighted'].mean())"
   ]
  },
  {
   "cell_type": "markdown",
   "metadata": {},
   "source": [
    "### k-NN Classification"
   ]
  },
  {
   "cell_type": "code",
   "execution_count": 45,
   "metadata": {},
   "outputs": [
    {
     "name": "stdout",
     "output_type": "stream",
     "text": [
      "\n",
      "accuracy: 0.8931909212283045\n",
      "\n",
      "Confusion matrix\n"
     ]
    },
    {
     "data": {
      "image/png": "[encoded data removed]",
      "text/plain": [
       "<Figure size 432x288 with 1 Axes>"
      ]
     },
     "metadata": {
      "needs_background": "light"
     },
     "output_type": "display_data"
    },
    {
     "name": "stdout",
     "output_type": "stream",
     "text": [
      "\n",
      "Average Precision Score\n",
      "0.8991472692525047\n",
      "\n",
      "Average Recall Score\n",
      "0.8931909212283045\n",
      "\n",
      "Average F1 Score\n",
      "0.8917469984255061\n",
      "\n",
      " {'fit_time': array([0.00099993, 0.00100017, 0.00100112, 0.0010004 , 0.00099945]), 'score_time': array([0.01000261, 0.0100019 , 0.01000166, 0.01000285, 0.01000214]), 'test_precision_weighted': array([0.84927233, 0.84659946, 0.8573924 , 0.8846516 , 0.83915221]), 'test_recall_weighted': array([0.84666667, 0.84      , 0.84      , 0.86666667, 0.81208054])}\n",
      "\n",
      " precision_weighted: 0.8554136014669934 \n",
      " recall_weighted: 0.841082774049217\n"
     ]
    }
   ],
   "source": [
    "knn_clf=KNeighborsClassifier(n_neighbors=5)\n",
    "knn_clf.fit(tfidf,true_labels)\n",
    "y_pred=knn_clf.predict(tfidf)\n",
    "\n",
    "print(\"\\naccuracy:\",metrics.accuracy_score(true_labels,y_pred))\n",
    "\n",
    "print(\"\\nConfusion matrix\")\n",
    "plt.pcolormesh(metrics.confusion_matrix(true_labels,y_pred),cmap=plt.cm.Reds)\n",
    "plt.show()\n",
    "\n",
    "print(\"\\nAverage Precision Score\")\n",
    "print(metrics.precision_score(true_labels,y_pred,average='weighted'))\n",
    "\n",
    "print(\"\\nAverage Recall Score\")\n",
    "print(metrics.recall_score(true_labels,y_pred,average='weighted'))\n",
    "\n",
    "print(\"\\nAverage F1 Score\")\n",
    "print(metrics.f1_score(true_labels,y_pred,average='weighted'))\n",
    "\n",
    "scores = model_selection.cross_validate(knn_clf,\n",
    "                                          tfidf,\n",
    "                                          true_labels,\n",
    "                                          scoring=['precision_weighted','recall_weighted'],\n",
    "                                          cv=5)\n",
    "print (\"\\n\",scores)\n",
    "print (\"\\n precision_weighted:\",scores['test_precision_weighted'].mean(),\n",
    "       \"\\n recall_weighted:\",scores['test_recall_weighted'].mean())"
   ]
  },
  {
   "cell_type": "markdown",
   "metadata": {},
   "source": [
    "### Results\n",
    "\n",
    "#### if we compare the results of the classication and the results of clustering that we did at previous exercise and more specifically the accurancy score results and confusion matrixes, we see that they dont have important differences but the classification method seems to be a little bit more accurate."
   ]
  },
  {
   "cell_type": "markdown",
   "metadata": {},
   "source": [
    "### Word embeddings\n",
    "\n",
    "First of all with the nltk library we create our train and test data"
   ]
  },
  {
   "cell_type": "code",
   "execution_count": 46,
   "metadata": {},
   "outputs": [],
   "source": [
    "english_stop_words = set(stopwords.words('english'))\n",
    "\n",
    "X_news_train_nltk = []\n",
    "y_news_train_nltk = []\n",
    "for x,y in zip(reviews,true_labels):\n",
    "    wt = word_tokenize(x.lower())\n",
    "    doc = [w for w in wt if w not in string.punctuation]\n",
    "    if len(doc) == 0: continue\n",
    "    X_news_train_nltk.append(doc)\n",
    "    y_news_train_nltk.append(y)\n",
    "\n",
    "    \n",
    "X_news_test_nltk = []\n",
    "y_news_test_nltk = []\n",
    "for x,y in zip(reviews,true_labels):\n",
    "    wt = word_tokenize(x.lower())\n",
    "    doc = [w for w in wt if (w not in english_stop_words) and (w not in string.punctuation)]\n",
    "    if len(doc) == 0: continue    \n",
    "    X_news_test_nltk.append(doc)\n",
    "    y_news_test_nltk.append(y)"
   ]
  },
  {
   "cell_type": "markdown",
   "metadata": {},
   "source": [
    "Next step is to download and import google word embendings "
   ]
  },
  {
   "cell_type": "code",
   "execution_count": 47,
   "metadata": {},
   "outputs": [
    {
     "name": "stdout",
     "output_type": "stream",
     "text": [
      "C:\\Users\\George/gensim-data\\word2vec-google-news-300\\word2vec-google-news-300.gz\n"
     ]
    }
   ],
   "source": [
    "import gensim.downloader as api\n",
    "path = api.load(\"word2vec-google-news-300\", return_path=True)\n",
    "print(path)"
   ]
  },
  {
   "cell_type": "code",
   "execution_count": 48,
   "metadata": {},
   "outputs": [],
   "source": [
    "path = 'C:\\\\Users\\\\George/gensim-data\\word2vec-google-news-300\\word2vec-google-news-300.gz'\n",
    "g_model = gensim.models.KeyedVectors.load_word2vec_format(path, binary=True) "
   ]
  },
  {
   "cell_type": "markdown",
   "metadata": {},
   "source": [
    "Now we have to Transform the train and test data"
   ]
  },
  {
   "cell_type": "code",
   "execution_count": 49,
   "metadata": {},
   "outputs": [
    {
     "name": "stderr",
     "output_type": "stream",
     "text": [
      "<ipython-input-49-5f9c45245b9f>:6: DeprecationWarning: Call to deprecated `wv` (Attribute will be removed in 4.0.0, use self instead).\n",
      "  if w in g_model.wv:\n",
      "<ipython-input-49-5f9c45245b9f>:17: DeprecationWarning: Call to deprecated `wv` (Attribute will be removed in 4.0.0, use self instead).\n",
      "  if (w not in g_model.wv): continue\n",
      "<ipython-input-49-5f9c45245b9f>:19: DeprecationWarning: Call to deprecated `wv` (Attribute will be removed in 4.0.0, use self instead).\n",
      "  vx += g_model.wv[w]\n"
     ]
    }
   ],
   "source": [
    "X_news_train_gmodel = []\n",
    "for x in X_news_train_nltk:\n",
    "    vx = np.zeros(300)\n",
    "    length = 0\n",
    "    for w in x: \n",
    "        if w in g_model.wv:\n",
    "            length += 1\n",
    "            vx += g_model[w]\n",
    "    if length != 0: vx /= length\n",
    "    X_news_train_gmodel.append(vx)\n",
    "    \n",
    "X_news_test_gmodel = []\n",
    "for x in X_news_test_nltk:\n",
    "    vx = np.zeros(300)\n",
    "    length = 0\n",
    "    for w in x: \n",
    "        if (w not in g_model.wv): continue\n",
    "        length += 1\n",
    "        vx += g_model.wv[w]\n",
    "    if length != 0: vx /= length\n",
    "    X_news_test_gmodel.append(vx)"
   ]
  },
  {
   "cell_type": "markdown",
   "metadata": {},
   "source": [
    "And last step is to train our classifiers on the embenddings that we have,so we repeat the same process that we did above\n",
    "for the follow classifiers:Logistic Regression,SVM Classification and K-NN Classification, to compare the results.\n",
    "\n",
    "### Logistic Regression"
   ]
  },
  {
   "cell_type": "code",
   "execution_count": 55,
   "metadata": {},
   "outputs": [
    {
     "name": "stdout",
     "output_type": "stream",
     "text": [
      "\n",
      "accuracy: 0.9012016021361816\n",
      "\n",
      "Confusion matrix\n"
     ]
    },
    {
     "data": {
      "image/png": "[encoded data removed]",
      "text/plain": [
       "<Figure size 432x288 with 1 Axes>"
      ]
     },
     "metadata": {
      "needs_background": "light"
     },
     "output_type": "display_data"
    },
    {
     "name": "stdout",
     "output_type": "stream",
     "text": [
      "\n",
      "Average Precision Score\n",
      "0.9011355827863453\n",
      "\n",
      "Average Recall Score\n",
      "0.9012016021361816\n",
      "\n",
      "Average F1 Score\n",
      "0.9008178552308878\n",
      "\n",
      " {'fit_time': array([0.03000689, 0.02500486, 0.03300738, 0.03000617, 0.03800869]), 'score_time': array([0.00200057, 0.00200081, 0.00200081, 0.00200057, 0.00200081]), 'test_precision_weighted': array([0.84210965, 0.86746154, 0.88785494, 0.86627009, 0.89454849]), 'test_recall_weighted': array([0.84      , 0.86666667, 0.88666667, 0.86666667, 0.89261745])}\n",
      "\n",
      " precision_weighted: 0.8716489403067058 \n",
      " recall_weighted: 0.870523489932886\n"
     ]
    }
   ],
   "source": [
    "logreg_clf.fit(X_news_train_gmodel, np.array(y_news_train_nltk))\n",
    "y_pred=logreg_clf.predict(X_news_train_gmodel)\n",
    "\n",
    "print(\"\\naccuracy:\",metrics.accuracy_score(np.array(y_news_train_nltk),y_pred))\n",
    "\n",
    "print(\"\\nConfusion matrix\")\n",
    "plt.pcolormesh(metrics.confusion_matrix(np.array(y_news_train_nltk),y_pred),cmap=plt.cm.Reds)\n",
    "plt.show()\n",
    "\n",
    "print(\"\\nAverage Precision Score\")\n",
    "print(metrics.precision_score(np.array(y_news_train_nltk),y_pred,average='weighted'))\n",
    "\n",
    "print(\"\\nAverage Recall Score\")\n",
    "print(metrics.recall_score(np.array(y_news_train_nltk),y_pred,average='weighted'))\n",
    "\n",
    "print(\"\\nAverage F1 Score\")\n",
    "print(metrics.f1_score(np.array(y_news_train_nltk),y_pred,average='weighted'))\n",
    "\n",
    "scores = model_selection.cross_validate(logreg_clf,\n",
    "                                         X_news_train_gmodel,\n",
    "                                          np.array(y_news_train_nltk),\n",
    "                                          scoring=['precision_weighted','recall_weighted'],\n",
    "                                          cv=5)\n",
    "print (\"\\n\",scores)\n",
    "print (\"\\n precision_weighted:\",scores['test_precision_weighted'].mean(),\n",
    "       \"\\n recall_weighted:\",scores['test_recall_weighted'].mean())"
   ]
  },
  {
   "cell_type": "markdown",
   "metadata": {},
   "source": [
    "### SVM Classification"
   ]
  },
  {
   "cell_type": "code",
   "execution_count": 56,
   "metadata": {},
   "outputs": [
    {
     "name": "stdout",
     "output_type": "stream",
     "text": [
      "\n",
      "accuracy: 0.9185580774365821\n",
      "\n",
      "Confusion matrix\n"
     ]
    },
    {
     "data": {
      "image/png": "[encoded data removed]",
      "text/plain": [
       "<Figure size 432x288 with 1 Axes>"
      ]
     },
     "metadata": {
      "needs_background": "light"
     },
     "output_type": "display_data"
    },
    {
     "name": "stdout",
     "output_type": "stream",
     "text": [
      "\n",
      "Average Precision Score\n",
      "0.9182981834260062\n",
      "\n",
      "Average Recall Score\n",
      "0.9185580774365821\n",
      "\n",
      "Average F1 Score\n",
      "0.9183364776460121\n",
      "\n",
      " {'fit_time': array([0.06801534, 0.0680151 , 0.06801462, 0.06801534, 0.07101512]), 'score_time': array([0.01700377, 0.01600361, 0.01600361, 0.01700473, 0.01700401]), 'test_precision_weighted': array([0.91154157, 0.88681138, 0.91481744, 0.88176726, 0.91379123]), 'test_recall_weighted': array([0.90666667, 0.88666667, 0.91333333, 0.88      , 0.91275168])}\n",
      "\n",
      " precision_weighted: 0.9017457763412804 \n",
      " recall_weighted: 0.8998836689038032\n"
     ]
    }
   ],
   "source": [
    "svm_clf.fit(X_news_train_gmodel, np.array(y_news_train_nltk))\n",
    "y_pred=svm_clf.predict(X_news_train_gmodel)\n",
    "\n",
    "print(\"\\naccuracy:\",metrics.accuracy_score(np.array(y_news_train_nltk),y_pred))\n",
    "\n",
    "print(\"\\nConfusion matrix\")\n",
    "plt.pcolormesh(metrics.confusion_matrix(np.array(y_news_train_nltk),y_pred),cmap=plt.cm.Reds)\n",
    "plt.show()\n",
    "\n",
    "print(\"\\nAverage Precision Score\")\n",
    "print(metrics.precision_score(np.array(y_news_train_nltk),y_pred,average='weighted'))\n",
    "\n",
    "print(\"\\nAverage Recall Score\")\n",
    "print(metrics.recall_score(np.array(y_news_train_nltk),y_pred,average='weighted'))\n",
    "\n",
    "print(\"\\nAverage F1 Score\")\n",
    "print(metrics.f1_score(np.array(y_news_train_nltk),y_pred,average='weighted'))\n",
    "\n",
    "scores = model_selection.cross_validate(svm_clf,\n",
    "                                          X_news_train_gmodel,\n",
    "                                          np.array(y_news_train_nltk),\n",
    "                                          scoring=['precision_weighted','recall_weighted'],\n",
    "                                          cv=5)\n",
    "print (\"\\n\",scores)\n",
    "print (\"\\n precision_weighted:\",scores['test_precision_weighted'].mean(),\n",
    "       \"\\n recall_weighted:\",scores['test_recall_weighted'].mean())"
   ]
  },
  {
   "cell_type": "markdown",
   "metadata": {},
   "source": [
    "### K-NN Classification"
   ]
  },
  {
   "cell_type": "code",
   "execution_count": 57,
   "metadata": {},
   "outputs": [
    {
     "name": "stdout",
     "output_type": "stream",
     "text": [
      "\n",
      "accuracy: 0.8931909212283045\n",
      "\n",
      "Confusion matrix\n"
     ]
    },
    {
     "data": {
      "image/png": "[encoded data removed]",
      "text/plain": [
       "<Figure size 432x288 with 1 Axes>"
      ]
     },
     "metadata": {
      "needs_background": "light"
     },
     "output_type": "display_data"
    },
    {
     "name": "stdout",
     "output_type": "stream",
     "text": [
      "\n",
      "Average Precision Score\n",
      "0.8940390179779132\n",
      "\n",
      "Average Recall Score\n",
      "0.8931909212283045\n",
      "\n",
      "Average F1 Score\n",
      "0.8919757368388581\n",
      "\n",
      " {'fit_time': array([0.0230031 , 0.02300549, 0.02200651, 0.0220046 , 0.02200508]), 'score_time': array([0.04304504, 0.04300928, 0.04300737, 0.04400969, 0.04300976]), 'test_precision_weighted': array([0.82540693, 0.84965964, 0.80648889, 0.82084803, 0.86976704]), 'test_recall_weighted': array([0.82      , 0.84666667, 0.8       , 0.81333333, 0.8590604 ])}\n",
      "\n",
      " precision_weighted: 0.8344341052167369 \n",
      " recall_weighted: 0.8278120805369127\n"
     ]
    }
   ],
   "source": [
    "knn_clf.fit(X_news_train_gmodel, np.array(y_news_train_nltk))\n",
    "y_pred=knn_clf.predict(X_news_train_gmodel)\n",
    "\n",
    "print(\"\\naccuracy:\",metrics.accuracy_score(np.array(y_news_train_nltk),y_pred))\n",
    "\n",
    "print(\"\\nConfusion matrix\")\n",
    "plt.pcolormesh(metrics.confusion_matrix(np.array(y_news_train_nltk),y_pred),cmap=plt.cm.Reds)\n",
    "plt.show()\n",
    "\n",
    "print(\"\\nAverage Precision Score\")\n",
    "print(metrics.precision_score(np.array(y_news_train_nltk),y_pred,average='weighted'))\n",
    "\n",
    "print(\"\\nAverage Recall Score\")\n",
    "print(metrics.recall_score(np.array(y_news_train_nltk),y_pred,average='weighted'))\n",
    "\n",
    "print(\"\\nAverage F1 Score\")\n",
    "print(metrics.f1_score(np.array(y_news_train_nltk),y_pred,average='weighted'))\n",
    "\n",
    "scores = model_selection.cross_validate(knn_clf,\n",
    "                                         X_news_train_gmodel,\n",
    "                                          np.array(y_news_train_nltk),\n",
    "                                          scoring=['precision_weighted','recall_weighted'],\n",
    "                                          cv=5)\n",
    "print (\"\\n\",scores)\n",
    "print (\"\\n precision_weighted:\",scores['test_precision_weighted'].mean(),\n",
    "       \"\\n recall_weighted:\",scores['test_recall_weighted'].mean())"
   ]
  },
  {
   "cell_type": "markdown",
   "metadata": {},
   "source": [
    "### results\n",
    "\n",
    "#### if we compare the reults of the classification method with the word embendings usage we see that the accurancy scores on logistic regression and svm classification are less accurate with the usage of the word embendings. On the other hand we can see that K-NN classification with the usage of the word embendings had huge improvement."
   ]
  },
  {
   "cell_type": "code",
   "execution_count": null,
   "metadata": {},
   "outputs": [],
   "source": []
  }
 ],
 "metadata": {
  "kernelspec": {
   "display_name": "Python 3",
   "language": "python",
   "name": "python3"
  },
  "language_info": {
   "codemirror_mode": {
    "name": "ipython",
    "version": 3
   },
   "file_extension": ".py",
   "mimetype": "text/x-python",
   "name": "python",
   "nbconvert_exporter": "python",
   "pygments_lexer": "ipython3",
   "version": "3.9.1"
  }
 },
 "nbformat": 4,
 "nbformat_minor": 4
}
